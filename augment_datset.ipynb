{
  "cells": [
    {
      "cell_type": "markdown",
      "metadata": {
        "id": "view-in-github",
        "colab_type": "text"
      },
      "source": [
        "<a href=\"https://colab.research.google.com/github/gabbiurlaro/aml22-ego/blob/vae/augment_datset.ipynb\" target=\"_parent\"><img src=\"https://colab.research.google.com/assets/colab-badge.svg\" alt=\"Open In Colab\"/></a>"
      ]
    },
    {
      "cell_type": "markdown",
      "metadata": {
        "id": "pW53_TEF0JuB"
      },
      "source": [
        "# INSTALL AND GIT\n"
      ]
    },
    {
      "cell_type": "code",
      "execution_count": 1,
      "metadata": {
        "id": "2GdURZvMjb9U",
        "colab": {
          "base_uri": "https://localhost:8080/"
        },
        "outputId": "2b4e7cf1-8b9f-4cb3-edd3-54ef1941cf49"
      },
      "outputs": [
        {
          "output_type": "stream",
          "name": "stdout",
          "text": [
            "Cloning into 'aml22-ego'...\n",
            "remote: Enumerating objects: 3595, done.\u001b[K\n",
            "remote: Counting objects: 100% (240/240), done.\u001b[K\n",
            "remote: Compressing objects: 100% (121/121), done.\u001b[K\n",
            "remote: Total 3595 (delta 151), reused 194 (delta 118), pack-reused 3355\u001b[K\n",
            "Receiving objects: 100% (3595/3595), 1.51 GiB | 33.70 MiB/s, done.\n",
            "Resolving deltas: 100% (2624/2624), done.\n",
            "Updating files: 100% (45/45), done.\n",
            "Updating files: 100% (161/161), done.\n",
            "Branch 'vae' set up to track remote branch 'vae' from 'origin'.\n",
            "Switched to a new branch 'vae'\n"
          ]
        }
      ],
      "source": [
        "!rm -rf sample_data\n",
        "\n",
        "!git clone https://github.com/gabbiurlaro/aml22-ego.git aml22-ego\n",
        "!cd aml22-ego && git checkout vae"
      ]
    },
    {
      "cell_type": "code",
      "execution_count": 2,
      "metadata": {
        "id": "FhUB2tNujdxM",
        "colab": {
          "base_uri": "https://localhost:8080/"
        },
        "outputId": "25d3909c-afe8-4fc8-987f-8de621f9cc23"
      },
      "outputs": [
        {
          "output_type": "stream",
          "name": "stdout",
          "text": [
            "Mounted at /content/drive\n"
          ]
        }
      ],
      "source": [
        "# Mount google drive \n",
        "from google.colab import drive\n",
        "drive.mount('/content/drive')"
      ]
    },
    {
      "cell_type": "code",
      "execution_count": 3,
      "metadata": {
        "id": "AuAI_gnfjeQj",
        "colab": {
          "base_uri": "https://localhost:8080/"
        },
        "outputId": "7f0004db-4ab4-445c-9fd2-abad05b30f7c"
      },
      "outputs": [
        {
          "output_type": "stream",
          "name": "stdout",
          "text": [
            "⏬ Downloading https://github.com/conda-forge/miniforge/releases/download/23.1.0-1/Mambaforge-23.1.0-1-Linux-x86_64.sh...\n",
            "📦 Installing...\n",
            "📌 Adjusting configuration...\n",
            "🩹 Patching environment...\n",
            "⏲ Done in 0:00:12\n",
            "🔁 Restarting kernel...\n"
          ]
        }
      ],
      "source": [
        "# Install conda\n",
        "\n",
        "!pip install -q condacolab\n",
        "import condacolab\n",
        "condacolab.install()"
      ]
    },
    {
      "cell_type": "code",
      "execution_count": 4,
      "metadata": {
        "id": "jItTAWYnuUO5"
      },
      "outputs": [],
      "source": [
        "!mkdir -p /usr/local/envs/egovision\n",
        "!tar xf /content/drive/MyDrive/egovision.tar.gz --directory=/usr/local/envs/egovision"
      ]
    },
    {
      "cell_type": "code",
      "execution_count": 17,
      "metadata": {
        "id": "xpFJEDzkjg5d",
        "colab": {
          "base_uri": "https://localhost:8080/"
        },
        "outputId": "93616751-e95b-4c72-ba15-3667872b60d2"
      },
      "outputs": [
        {
          "output_type": "stream",
          "name": "stdout",
          "text": [
            "Updating 0517763..392274a\n",
            "Fast-forward\n",
            " utils/loaders.py | 6 ++++--\n",
            " 1 file changed, 4 insertions(+), 2 deletions(-)\n"
          ]
        },
        {
          "output_type": "stream",
          "name": "stderr",
          "text": [
            "bash: line 1: cd: aml22-ego: No such file or directory\n",
            "From https://github.com/gabbiurlaro/aml22-ego\n",
            " * branch            vae        -> FETCH_HEAD\n",
            "   0517763..392274a  vae        -> origin/vae\n"
          ]
        }
      ],
      "source": [
        "%%bash\n",
        "cd aml22-ego & git pull origin vae"
      ]
    },
    {
      "cell_type": "markdown",
      "metadata": {
        "id": "3CHT3O2ka_M5"
      },
      "source": [
        "# Augmentation"
      ]
    },
    {
      "cell_type": "code",
      "execution_count": 5,
      "metadata": {
        "id": "6pVgmYFLjPgt",
        "colab": {
          "base_uri": "https://localhost:8080/",
          "height": 661
        },
        "outputId": "ff27c402-3400-4a19-a416-c1e1e292d1dd"
      },
      "outputs": [
        {
          "output_type": "execute_result",
          "data": {
            "text/plain": [
              "     uid subject     verb  verb_class  \\\n",
              "0      0   S08_1   Spread           0   \n",
              "1      1   S04_1  Get/Put           1   \n",
              "2      2   S03_1    Clear           2   \n",
              "3      3   S08_1    Clear           2   \n",
              "4      4   S04_1    Slice           3   \n",
              "..   ...     ...      ...         ...   \n",
              "521  521   S05_2    Clean           4   \n",
              "522  522   S09_2    Clean           4   \n",
              "523  523   S03_2   Spread           0   \n",
              "524  524   S02_2    Slice           3   \n",
              "525  525   S09_2    Clear           2   \n",
              "\n",
              "                                           description  start_frame  \\\n",
              "0                        Spread jelly on a bread slice        81240   \n",
              "1    Get/replace items from refrigerator/cabinets/d...        42403   \n",
              "2                                  Clear cutting board        15308   \n",
              "3                                  Clear cutting board        64690   \n",
              "4                                     Slice a cucumber        35308   \n",
              "..                                                 ...          ...   \n",
              "521                          Clean a pan with a sponge        70522   \n",
              "522                        Clean a plate with a sponge        80762   \n",
              "523              Spread almond butter on a bread slice         6954   \n",
              "524                                   Slice a cucumber        36379   \n",
              "525                                Clear cutting board        49968   \n",
              "\n",
              "     stop_frame         start_ts           end_ts  \\\n",
              "0         81898  00:45:07.987279  00:45:29.929329   \n",
              "1         44509  00:23:33.433146  00:24:43.612856   \n",
              "2         15741  00:08:30.234442  00:08:44.687263   \n",
              "3         64849  00:35:56.322172  00:36:01.618174   \n",
              "4         36764  00:19:36.920691  00:20:25.454613   \n",
              "..          ...              ...              ...   \n",
              "521       70836  00:39:10.708422  00:39:21.176074   \n",
              "522       81079  00:44:52.036009  00:45:02.629240   \n",
              "523        7794  00:03:51.795153  00:04:19.795153   \n",
              "524       37997  00:20:12.603901  00:21:06.561359   \n",
              "525       50325  00:27:45.568529  00:27:57.491318   \n",
              "\n",
              "                                     myo_left_readings  \\\n",
              "0    [[4, 12, 21, -21, 3, -2, -5, 7], [-6, -5, -5, ...   \n",
              "1    [[2, 2, -11, -8, -2, -7, 19, 5], [24, 17, -7, ...   \n",
              "2    [[-9, -14, -2, -6, 3, 3, 2, 19], [11, 8, -12, ...   \n",
              "3    [[-7, -10, -6, 9, 7, -6, -18, 5], [17, -3, -18...   \n",
              "4    [[18, 20, -8, 8, -16, 7, 9, 12], [5, -21, -35,...   \n",
              "..                                                 ...   \n",
              "521  [[4, -10, -1, 8, 3, -8, -8, 5], [18, -3, -4, -...   \n",
              "522  [[-24, -10, -2, 1, 0, -9, -2, -25], [-20, -10,...   \n",
              "523  [[5, 4, 3, 0, 6, 9, 12, 7], [-4, -3, -1, -2, 2...   \n",
              "524  [[-13, 3, 3, -4, 4, 19, 23, 4], [-3, 5, 19, -9...   \n",
              "525  [[-39, -44, 43, 33, 29, 7, -15, -86], [-61, 55...   \n",
              "\n",
              "                                    myo_right_readings  \n",
              "0    [[-1, 9, 36, 34, 6, 3, 5, -2], [3, 12, 26, -9,...  \n",
              "1    [[-9, 11, 17, -38, -13, -6, 2, -5], [11, -4, 2...  \n",
              "2    [[-26, -22, 17, 5, -23, -22, -20, -24], [19, 2...  \n",
              "3    [[13, 19, -52, -15, -13, -3, -2, -2], [30, 16,...  \n",
              "4    [[7, 13, 45, 14, -4, 1, 2, 4], [0, 2, -14, -10...  \n",
              "..                                                 ...  \n",
              "521  [[-2, -15, -46, 16, 6, -1, -2, -1], [4, 5, -10...  \n",
              "522  [[-7, -1, 8, 3, 10, 18, 14, -5], [4, 6, 27, 11...  \n",
              "523  [[2, 12, 10, 6, -6, -2, -1, -1], [24, 0, 14, -...  \n",
              "524  [[-63, -94, -12, -19, -17, 2, 8, -7], [18, 100...  \n",
              "525  [[7, -20, -37, -32, -19, -5, -2, 4], [-5, -11,...  \n",
              "\n",
              "[526 rows x 11 columns]"
            ],
            "text/html": [
              "\n",
              "  <div id=\"df-147c5fdb-1f50-448e-b890-679fd6b88c97\">\n",
              "    <div class=\"colab-df-container\">\n",
              "      <div>\n",
              "<style scoped>\n",
              "    .dataframe tbody tr th:only-of-type {\n",
              "        vertical-align: middle;\n",
              "    }\n",
              "\n",
              "    .dataframe tbody tr th {\n",
              "        vertical-align: top;\n",
              "    }\n",
              "\n",
              "    .dataframe thead th {\n",
              "        text-align: right;\n",
              "    }\n",
              "</style>\n",
              "<table border=\"1\" class=\"dataframe\">\n",
              "  <thead>\n",
              "    <tr style=\"text-align: right;\">\n",
              "      <th></th>\n",
              "      <th>uid</th>\n",
              "      <th>subject</th>\n",
              "      <th>verb</th>\n",
              "      <th>verb_class</th>\n",
              "      <th>description</th>\n",
              "      <th>start_frame</th>\n",
              "      <th>stop_frame</th>\n",
              "      <th>start_ts</th>\n",
              "      <th>end_ts</th>\n",
              "      <th>myo_left_readings</th>\n",
              "      <th>myo_right_readings</th>\n",
              "    </tr>\n",
              "  </thead>\n",
              "  <tbody>\n",
              "    <tr>\n",
              "      <th>0</th>\n",
              "      <td>0</td>\n",
              "      <td>S08_1</td>\n",
              "      <td>Spread</td>\n",
              "      <td>0</td>\n",
              "      <td>Spread jelly on a bread slice</td>\n",
              "      <td>81240</td>\n",
              "      <td>81898</td>\n",
              "      <td>00:45:07.987279</td>\n",
              "      <td>00:45:29.929329</td>\n",
              "      <td>[[4, 12, 21, -21, 3, -2, -5, 7], [-6, -5, -5, ...</td>\n",
              "      <td>[[-1, 9, 36, 34, 6, 3, 5, -2], [3, 12, 26, -9,...</td>\n",
              "    </tr>\n",
              "    <tr>\n",
              "      <th>1</th>\n",
              "      <td>1</td>\n",
              "      <td>S04_1</td>\n",
              "      <td>Get/Put</td>\n",
              "      <td>1</td>\n",
              "      <td>Get/replace items from refrigerator/cabinets/d...</td>\n",
              "      <td>42403</td>\n",
              "      <td>44509</td>\n",
              "      <td>00:23:33.433146</td>\n",
              "      <td>00:24:43.612856</td>\n",
              "      <td>[[2, 2, -11, -8, -2, -7, 19, 5], [24, 17, -7, ...</td>\n",
              "      <td>[[-9, 11, 17, -38, -13, -6, 2, -5], [11, -4, 2...</td>\n",
              "    </tr>\n",
              "    <tr>\n",
              "      <th>2</th>\n",
              "      <td>2</td>\n",
              "      <td>S03_1</td>\n",
              "      <td>Clear</td>\n",
              "      <td>2</td>\n",
              "      <td>Clear cutting board</td>\n",
              "      <td>15308</td>\n",
              "      <td>15741</td>\n",
              "      <td>00:08:30.234442</td>\n",
              "      <td>00:08:44.687263</td>\n",
              "      <td>[[-9, -14, -2, -6, 3, 3, 2, 19], [11, 8, -12, ...</td>\n",
              "      <td>[[-26, -22, 17, 5, -23, -22, -20, -24], [19, 2...</td>\n",
              "    </tr>\n",
              "    <tr>\n",
              "      <th>3</th>\n",
              "      <td>3</td>\n",
              "      <td>S08_1</td>\n",
              "      <td>Clear</td>\n",
              "      <td>2</td>\n",
              "      <td>Clear cutting board</td>\n",
              "      <td>64690</td>\n",
              "      <td>64849</td>\n",
              "      <td>00:35:56.322172</td>\n",
              "      <td>00:36:01.618174</td>\n",
              "      <td>[[-7, -10, -6, 9, 7, -6, -18, 5], [17, -3, -18...</td>\n",
              "      <td>[[13, 19, -52, -15, -13, -3, -2, -2], [30, 16,...</td>\n",
              "    </tr>\n",
              "    <tr>\n",
              "      <th>4</th>\n",
              "      <td>4</td>\n",
              "      <td>S04_1</td>\n",
              "      <td>Slice</td>\n",
              "      <td>3</td>\n",
              "      <td>Slice a cucumber</td>\n",
              "      <td>35308</td>\n",
              "      <td>36764</td>\n",
              "      <td>00:19:36.920691</td>\n",
              "      <td>00:20:25.454613</td>\n",
              "      <td>[[18, 20, -8, 8, -16, 7, 9, 12], [5, -21, -35,...</td>\n",
              "      <td>[[7, 13, 45, 14, -4, 1, 2, 4], [0, 2, -14, -10...</td>\n",
              "    </tr>\n",
              "    <tr>\n",
              "      <th>...</th>\n",
              "      <td>...</td>\n",
              "      <td>...</td>\n",
              "      <td>...</td>\n",
              "      <td>...</td>\n",
              "      <td>...</td>\n",
              "      <td>...</td>\n",
              "      <td>...</td>\n",
              "      <td>...</td>\n",
              "      <td>...</td>\n",
              "      <td>...</td>\n",
              "      <td>...</td>\n",
              "    </tr>\n",
              "    <tr>\n",
              "      <th>521</th>\n",
              "      <td>521</td>\n",
              "      <td>S05_2</td>\n",
              "      <td>Clean</td>\n",
              "      <td>4</td>\n",
              "      <td>Clean a pan with a sponge</td>\n",
              "      <td>70522</td>\n",
              "      <td>70836</td>\n",
              "      <td>00:39:10.708422</td>\n",
              "      <td>00:39:21.176074</td>\n",
              "      <td>[[4, -10, -1, 8, 3, -8, -8, 5], [18, -3, -4, -...</td>\n",
              "      <td>[[-2, -15, -46, 16, 6, -1, -2, -1], [4, 5, -10...</td>\n",
              "    </tr>\n",
              "    <tr>\n",
              "      <th>522</th>\n",
              "      <td>522</td>\n",
              "      <td>S09_2</td>\n",
              "      <td>Clean</td>\n",
              "      <td>4</td>\n",
              "      <td>Clean a plate with a sponge</td>\n",
              "      <td>80762</td>\n",
              "      <td>81079</td>\n",
              "      <td>00:44:52.036009</td>\n",
              "      <td>00:45:02.629240</td>\n",
              "      <td>[[-24, -10, -2, 1, 0, -9, -2, -25], [-20, -10,...</td>\n",
              "      <td>[[-7, -1, 8, 3, 10, 18, 14, -5], [4, 6, 27, 11...</td>\n",
              "    </tr>\n",
              "    <tr>\n",
              "      <th>523</th>\n",
              "      <td>523</td>\n",
              "      <td>S03_2</td>\n",
              "      <td>Spread</td>\n",
              "      <td>0</td>\n",
              "      <td>Spread almond butter on a bread slice</td>\n",
              "      <td>6954</td>\n",
              "      <td>7794</td>\n",
              "      <td>00:03:51.795153</td>\n",
              "      <td>00:04:19.795153</td>\n",
              "      <td>[[5, 4, 3, 0, 6, 9, 12, 7], [-4, -3, -1, -2, 2...</td>\n",
              "      <td>[[2, 12, 10, 6, -6, -2, -1, -1], [24, 0, 14, -...</td>\n",
              "    </tr>\n",
              "    <tr>\n",
              "      <th>524</th>\n",
              "      <td>524</td>\n",
              "      <td>S02_2</td>\n",
              "      <td>Slice</td>\n",
              "      <td>3</td>\n",
              "      <td>Slice a cucumber</td>\n",
              "      <td>36379</td>\n",
              "      <td>37997</td>\n",
              "      <td>00:20:12.603901</td>\n",
              "      <td>00:21:06.561359</td>\n",
              "      <td>[[-13, 3, 3, -4, 4, 19, 23, 4], [-3, 5, 19, -9...</td>\n",
              "      <td>[[-63, -94, -12, -19, -17, 2, 8, -7], [18, 100...</td>\n",
              "    </tr>\n",
              "    <tr>\n",
              "      <th>525</th>\n",
              "      <td>525</td>\n",
              "      <td>S09_2</td>\n",
              "      <td>Clear</td>\n",
              "      <td>2</td>\n",
              "      <td>Clear cutting board</td>\n",
              "      <td>49968</td>\n",
              "      <td>50325</td>\n",
              "      <td>00:27:45.568529</td>\n",
              "      <td>00:27:57.491318</td>\n",
              "      <td>[[-39, -44, 43, 33, 29, 7, -15, -86], [-61, 55...</td>\n",
              "      <td>[[7, -20, -37, -32, -19, -5, -2, 4], [-5, -11,...</td>\n",
              "    </tr>\n",
              "  </tbody>\n",
              "</table>\n",
              "<p>526 rows × 11 columns</p>\n",
              "</div>\n",
              "      <button class=\"colab-df-convert\" onclick=\"convertToInteractive('df-147c5fdb-1f50-448e-b890-679fd6b88c97')\"\n",
              "              title=\"Convert this dataframe to an interactive table.\"\n",
              "              style=\"display:none;\">\n",
              "        \n",
              "  <svg xmlns=\"http://www.w3.org/2000/svg\" height=\"24px\"viewBox=\"0 0 24 24\"\n",
              "       width=\"24px\">\n",
              "    <path d=\"M0 0h24v24H0V0z\" fill=\"none\"/>\n",
              "    <path d=\"M18.56 5.44l.94 2.06.94-2.06 2.06-.94-2.06-.94-.94-2.06-.94 2.06-2.06.94zm-11 1L8.5 8.5l.94-2.06 2.06-.94-2.06-.94L8.5 2.5l-.94 2.06-2.06.94zm10 10l.94 2.06.94-2.06 2.06-.94-2.06-.94-.94-2.06-.94 2.06-2.06.94z\"/><path d=\"M17.41 7.96l-1.37-1.37c-.4-.4-.92-.59-1.43-.59-.52 0-1.04.2-1.43.59L10.3 9.45l-7.72 7.72c-.78.78-.78 2.05 0 2.83L4 21.41c.39.39.9.59 1.41.59.51 0 1.02-.2 1.41-.59l7.78-7.78 2.81-2.81c.8-.78.8-2.07 0-2.86zM5.41 20L4 18.59l7.72-7.72 1.47 1.35L5.41 20z\"/>\n",
              "  </svg>\n",
              "      </button>\n",
              "      \n",
              "  <style>\n",
              "    .colab-df-container {\n",
              "      display:flex;\n",
              "      flex-wrap:wrap;\n",
              "      gap: 12px;\n",
              "    }\n",
              "\n",
              "    .colab-df-convert {\n",
              "      background-color: #E8F0FE;\n",
              "      border: none;\n",
              "      border-radius: 50%;\n",
              "      cursor: pointer;\n",
              "      display: none;\n",
              "      fill: #1967D2;\n",
              "      height: 32px;\n",
              "      padding: 0 0 0 0;\n",
              "      width: 32px;\n",
              "    }\n",
              "\n",
              "    .colab-df-convert:hover {\n",
              "      background-color: #E2EBFA;\n",
              "      box-shadow: 0px 1px 2px rgba(60, 64, 67, 0.3), 0px 1px 3px 1px rgba(60, 64, 67, 0.15);\n",
              "      fill: #174EA6;\n",
              "    }\n",
              "\n",
              "    [theme=dark] .colab-df-convert {\n",
              "      background-color: #3B4455;\n",
              "      fill: #D2E3FC;\n",
              "    }\n",
              "\n",
              "    [theme=dark] .colab-df-convert:hover {\n",
              "      background-color: #434B5C;\n",
              "      box-shadow: 0px 1px 3px 1px rgba(0, 0, 0, 0.15);\n",
              "      filter: drop-shadow(0px 1px 2px rgba(0, 0, 0, 0.3));\n",
              "      fill: #FFFFFF;\n",
              "    }\n",
              "  </style>\n",
              "\n",
              "      <script>\n",
              "        const buttonEl =\n",
              "          document.querySelector('#df-147c5fdb-1f50-448e-b890-679fd6b88c97 button.colab-df-convert');\n",
              "        buttonEl.style.display =\n",
              "          google.colab.kernel.accessAllowed ? 'block' : 'none';\n",
              "\n",
              "        async function convertToInteractive(key) {\n",
              "          const element = document.querySelector('#df-147c5fdb-1f50-448e-b890-679fd6b88c97');\n",
              "          const dataTable =\n",
              "            await google.colab.kernel.invokeFunction('convertToInteractive',\n",
              "                                                     [key], {});\n",
              "          if (!dataTable) return;\n",
              "\n",
              "          const docLinkHtml = 'Like what you see? Visit the ' +\n",
              "            '<a target=\"_blank\" href=https://colab.research.google.com/notebooks/data_table.ipynb>data table notebook</a>'\n",
              "            + ' to learn more about interactive tables.';\n",
              "          element.innerHTML = '';\n",
              "          dataTable['output_type'] = 'display_data';\n",
              "          await google.colab.output.renderOutput(dataTable, element);\n",
              "          const docLink = document.createElement('div');\n",
              "          docLink.innerHTML = docLinkHtml;\n",
              "          element.appendChild(docLink);\n",
              "        }\n",
              "      </script>\n",
              "    </div>\n",
              "  </div>\n",
              "  "
            ]
          },
          "metadata": {},
          "execution_count": 5
        }
      ],
      "source": [
        "import pickle \n",
        "import numpy as np\n",
        "import pandas as pd\n",
        "import pywt\n",
        "import torch\n",
        "import os\n",
        "import torch.nn.functional as F\n",
        "from scipy.interpolate import CubicSpline\n",
        "import random\n",
        "import torchvision.transforms\n",
        "from torch.utils.data import Dataset\n",
        "\n",
        "train =  pd.DataFrame(pd.read_pickle('/content/aml22-ego/saved_features/ACTIONNET_EMG/EMG_no-clip_ActionNet_train.pkl'))\n",
        "test =  pd.DataFrame(pd.read_pickle('/content/aml22-ego/saved_features/ACTIONNET_EMG/EMG_no-clip_ActionNet_test.pkl'))\n",
        "original_train = pd.DataFrame(pd.read_pickle('/content/drive/MyDrive/train_val_EMG/ActionNet_train.pkl'))\n",
        "original_test = pd.DataFrame(pd.read_pickle('/content/drive/MyDrive/train_val_EMG/ActionNet_test.pkl'))\n",
        "original_train"
      ]
    },
    {
      "cell_type": "code",
      "execution_count": null,
      "metadata": {
        "id": "kEUlNLF90JuD"
      },
      "outputs": [],
      "source": []
    },
    {
      "cell_type": "code",
      "execution_count": 7,
      "metadata": {
        "id": "hw5qXKROjPgv"
      },
      "outputs": [],
      "source": [
        "def wavelet_decomposition(signal, wavelet_name, decomposition_level, detail_factor):\n",
        "    coeffs = pywt.wavedec(signal, wavelet=wavelet_name, level=decomposition_level)\n",
        "    cA, cD = coeffs[0], coeffs[1:]  # Approximation and detail coefficients\n",
        "    \n",
        "    # Modify detail coefficients\n",
        "    cD_modified = [detail_factor * cd for cd in cD]\n",
        "    \n",
        "    # Reconstruct the augmented signal\n",
        "    augmented_coeffs = [cA] + cD_modified\n",
        "    augmented_signal = np.array(pywt.waverec(augmented_coeffs, wavelet=wavelet_name))\n",
        "    \n",
        "    return augmented_signal\n",
        "\n",
        "\n",
        "class WaveletDecompositionTransform:\n",
        "    def __init__(self, wavelet_name, decomposition_level, detail_factor, num_clips):\n",
        "        self.wavelet_name = wavelet_name\n",
        "        self.decomposition_level = decomposition_level\n",
        "        self.detail_factor = detail_factor\n",
        "        self.num_clips = num_clips\n",
        "    \n",
        "    def __call__(self, sample):\n",
        "        signals = sample['features_EMG']\n",
        "        augmented_signals = []\n",
        "        for i in range(self.num_clips):\n",
        "          augmented_signals.append(wavelet_decomposition(torch.Tensor(signals[i]), self.wavelet_name, self.decomposition_level, self.detail_factor))\n",
        "        # Create a new augmented sample\n",
        "        augmented_sample = {\n",
        "            'features_EMG': np.array(augmented_signals),\n",
        "            'label': sample['label'],\n",
        "            'uid': sample['uid'],\n",
        "            'untrimmed_video_name': sample['untrimmed_video_name']\n",
        "        }\n",
        "        \n",
        "        return augmented_sample"
      ]
    },
    {
      "cell_type": "code",
      "execution_count": 8,
      "metadata": {
        "id": "LGxv8xQ7jPgv"
      },
      "outputs": [],
      "source": [
        "def magnitude_warping(signal, variance=0.01):\n",
        "    T = signal.size(0)\n",
        "    t = torch.linspace(0, 1, T)  # Equidistant time points\n",
        "    r = torch.randn(T)  # Random numbers from a normal distribution\n",
        "    r = torch.clamp(r, -2.0, 2.0)  # Limit the range of random numbers to avoid extreme warping\n",
        "    \n",
        "    # Generate a smooth curve using cubic splines\n",
        "    spline = CubicSpline(t, r)\n",
        "    cubic_spline = torch.from_numpy(spline(t)).float()\n",
        "    \n",
        "    # Elementwise product of the interpolated curve with the signal\n",
        "    warped_signal = np.array(signal * (1.0 + variance * cubic_spline))\n",
        "\n",
        "    return warped_signal\n",
        "\n",
        "class MagnitudeWarpingTransform:\n",
        "    def __init__(self, variance, num_clips):\n",
        "        self.variance= variance\n",
        "        self.num_clips = num_clips\n",
        "    \n",
        "    def __call__(self, sample):\n",
        "        signals = sample['features_EMG']\n",
        "        augmented_signals = []\n",
        "        for i in range(self.num_clips):\n",
        "          augmented_signals.append(magnitude_warping(torch.Tensor(signals[i]), variance=self.variance))\n",
        "        # Create a new augmented sample\n",
        "        augmented_sample = {\n",
        "            'features_EMG': np.array(augmented_signals),\n",
        "            'label': sample['label'],\n",
        "            'uid': sample['uid'],\n",
        "            'untrimmed_video_name': sample['untrimmed_video_name']\n",
        "        }\n",
        "        \n",
        "        return augmented_sample\n",
        "\n",
        "# Example usage\n",
        "#signal = torch.randn(1024)  # Assuming input signal of size 1024\n",
        "#warped_signal = magnitude_warping(signal, variance=0.01)"
      ]
    },
    {
      "cell_type": "code",
      "execution_count": 9,
      "metadata": {
        "id": "73FRNsZBjPgw"
      },
      "outputs": [],
      "source": [
        "class SlidingWindowTransform:\n",
        "    def __init__(self, window_length, overlap=False, num_clips=5):\n",
        "        self.window_length = window_length\n",
        "        self.overlap = overlap\n",
        "        self.num_clips = num_clips\n",
        "\n",
        "    def __call__(self, x):\n",
        "        signals = x['features_EMG']\n",
        "        for i in range(self.num_clips):\n",
        "          num_segments = len(signals) // self.window_length\n",
        "          print( len(signals))\n",
        "          if self.overlap:\n",
        "              stride = self.window_length // 2\n",
        "          else:\n",
        "              stride = self.window_length\n",
        "          augmented_signals = []\n",
        "          for i in range(num_segments):\n",
        "              start = i * stride\n",
        "              end = start + self.window_length\n",
        "              segment = signals[start:end]\n",
        "              augmented_signals.append(segment)\n",
        "        augmented_sample = {\n",
        "              'features_EMG': torch.stack(augmented_signals),\n",
        "              'label': x['label'],\n",
        "              'uid': x['uid'],\n",
        "              'untrimmed_video_name': x['untrimmed_video_name']\n",
        "          }\n",
        "        \n",
        "        return augmented_sample\n"
      ]
    },
    {
      "cell_type": "code",
      "source": [
        "%%bash\n",
        "cd ../aml22-ego\n",
        "ls"
      ],
      "metadata": {
        "colab": {
          "base_uri": "https://localhost:8080/"
        },
        "id": "cKA5AMQs38sG",
        "outputId": "70cb2675-3cb9-4918-e736-5ee0c7cd59ec"
      },
      "execution_count": 22,
      "outputs": [
        {
          "output_type": "stream",
          "name": "stdout",
          "text": [
            "action-net\n",
            "augment_datset.ipynb\n",
            "colab_runner.ipynb\n",
            "configs\n",
            "Experiment_logs\n",
            "generate_video_from_frame.ipynb\n",
            "img\n",
            "img_VAE.png\n",
            "jj.mdx\n",
            "models\n",
            "My__colab_runner.ipynb\n",
            "pretrained_i3d\n",
            "README.md\n",
            "requirements.yaml\n",
            "results_classifier\n",
            "RGB_SEMG.py\n",
            "saved_features\n",
            "saved_models\n",
            "save_feat_actionnet.py\n",
            "save_feat_epic.py\n",
            "scripts\n",
            "Second_colab_runner.ipynb\n",
            "tasks\n",
            "train_AE_features_clip.py\n",
            "train_classifier_EMG.py\n",
            "train_classifier_LSTM.py\n",
            "train_classifier_MLP.py\n",
            "train_classifier_multimodal.py\n",
            "train_classifier_TRN.py\n",
            "train_VAE_EMG.py\n",
            "train_VAE_features_clip.py\n",
            "train_VAE_features_EMG.py\n",
            "train_val\n",
            "transform_annotations.ipynb\n",
            "utils\n",
            "visualize_feature.ipynb\n"
          ]
        }
      ]
    },
    {
      "cell_type": "code",
      "execution_count": 31,
      "metadata": {
        "id": "ddtzSq60jPgw",
        "colab": {
          "base_uri": "https://localhost:8080/",
          "height": 222
        },
        "outputId": "741a74d3-8a1b-48e8-a687-1a80f7603caf"
      },
      "outputs": [
        {
          "output_type": "error",
          "ename": "AttributeError",
          "evalue": "ignored",
          "traceback": [
            "\u001b[0;31m---------------------------------------------------------------------------\u001b[0m",
            "\u001b[0;31mAttributeError\u001b[0m                            Traceback (most recent call last)",
            "\u001b[0;32m<ipython-input-31-01fe1aec7563>\u001b[0m in \u001b[0;36m<cell line: 15>\u001b[0;34m()\u001b[0m\n\u001b[1;32m     13\u001b[0m test =  ActionNetDataset('ActionNet', ['EMG'], 'test', {'stride': 2, 'annotations_path':'/content/drive/MyDrive/train_val_EMG'}, {'EMG': 32}, 5, {'EMG': False},\n\u001b[1;32m     14\u001b[0m                                                                        None, load_feat=True)\n\u001b[0;32m---> 15\u001b[0;31m \u001b[0mtrain\u001b[0m\u001b[0;34m.\u001b[0m\u001b[0mlist_file\u001b[0m\u001b[0;34m\u001b[0m\u001b[0;34m\u001b[0m\u001b[0m\n\u001b[0m",
            "\u001b[0;31mAttributeError\u001b[0m: 'ActionNetDataset' object has no attribute 'list_file'"
          ]
        }
      ],
      "source": [
        "from utils.loaders import ActionNetDataset\n",
        "sigma = 0.1\n",
        "wavelet_name = 'db7' #Wavelet name (e.g., Daubechies 4)\n",
        "decomposition_level = 5 # # Number of decomposition levels\n",
        "detail_factor = 0 # Scaling factor for modifying detail coefficients\n",
        "  \n",
        "num_clips = 5\n",
        "batch_Size = 1\n",
        "\n",
        "train =  ActionNetDataset('ActionNet', ['EMG'], 'train', {'stride': 2, 'annotations_path':'/content/drive/MyDrive/train_val_EMG'}, {'EMG': 32}, 5, {'EMG': False},\n",
        "                                                                       None, load_feat=True)\n",
        "#pd.DataFrame(pd.read_pickle('/content/aml22-ego/saved_features/ACTIONNET_EMG/EMG_no-clip_ActionNet_train.pkl'))\n",
        "test =  ActionNetDataset('ActionNet', ['EMG'], 'test', {'stride': 2, 'annotations_path':'/content/drive/MyDrive/train_val_EMG'}, {'EMG': 32}, 5, {'EMG': False},\n",
        "                                                                       None, load_feat=True)\n",
        "train.list_file\n"
      ]
    },
    {
      "cell_type": "code",
      "source": [
        "\n",
        "wavelet_transform = WaveletDecompositionTransform(wavelet_name, decomposition_level, detail_factor, num_clips)\n",
        "magnitude_warp_transform = MagnitudeWarpingTransform(sigma, num_clips)\n",
        "#sw_transform = SlidingWindowTransform(window_length=100, overlap=True, num_clips=num_clips)\n",
        "\n",
        "transforms_A = [\n",
        "    torchvision.transforms.Compose([wavelet_transform, magnitude_warp_transform]),\n",
        "     torchvision.transforms.Compose([magnitude_warp_transform ]), \n",
        "     torchvision.transforms.Compose([wavelet_transform]),\n",
        "     torchvision.transforms.Compose([magnitude_warp_transform, wavelet_transform])\n",
        "    ] \n",
        "out_train = {}\n",
        "out_test = {}\n",
        "outs = [out_train, out_test]\n",
        "datasets = [train, test]\n",
        "\n",
        "for data_id in range(len(datasets)):\n",
        "  for aug_set in range(4):\n",
        "    augmented_samples = [transforms_A[aug_set](datasets[data_id]['features'][i]) for i in range(len(datasets[data_id]['features']))]\n",
        "    outs[data_id][aug_set] = {'features': list(augmented_samples)}\n",
        "    print(len(outs[data_id][aug_set]['features']))\n",
        "  #for feats in datasets[data_id]['features']:\n",
        "\n",
        "ts = ['WD-MW', 'MW', 'WD', 'MW-WD']\n",
        "for i in range(4):\n",
        "  filename = './saved_features/aug/ActionNet_augmented_clips_' + ts[i]\n",
        "  with open(f\"{filename}_train.pkl\", \"wb\") as file:\n",
        "            pickle.dump(outs[0][i], file)\n",
        "  with open(f\"{filename}_test.pkl\", \"wb\") as file:\n",
        "             pickle.dump(outs[1][i], file)"
      ],
      "metadata": {
        "id": "_H0IVcLW1--Z"
      },
      "execution_count": null,
      "outputs": []
    },
    {
      "cell_type": "code",
      "source": [],
      "metadata": {
        "id": "EODm1GEw1Y_-"
      },
      "execution_count": null,
      "outputs": []
    },
    {
      "cell_type": "code",
      "execution_count": null,
      "metadata": {
        "id": "mSjZDYKLBh_h"
      },
      "outputs": [],
      "source": [
        "from google.colab import files\n",
        "!zip -r /content/feats_def.zip /content/aml22-ego/saved_features/aug\n",
        "files.download('/content/feats_def.zip')"
      ]
    },
    {
      "cell_type": "markdown",
      "metadata": {
        "id": "UR-pPX-qbKtf"
      },
      "source": [
        "# Plot features"
      ]
    },
    {
      "cell_type": "code",
      "execution_count": null,
      "metadata": {
        "id": "u4Xev75IbKQG"
      },
      "outputs": [],
      "source": []
    },
    {
      "cell_type": "code",
      "execution_count": null,
      "metadata": {
        "id": "ZevU9cpo99zV"
      },
      "outputs": [],
      "source": [
        "import pandas as pd\n",
        "import matplotlib.pyplot as plt\n",
        "import numpy as np\n",
        "import random\n",
        "from sklearn.manifold import TSNE\n",
        "from sklearn.decomposition import PCA\n",
        "num_clips = 5\n",
        "# EPIC-KITCHEN and ActionNet\n",
        "\n",
        "labels = {'EK':{\n",
        "        0 : \"take (get)\",\n",
        "        1 : \"put-down (put/place)\",\n",
        "        2 : \"open\",\n",
        "        3 : \"close\",\n",
        "        4 : \"wash (clean)\",\n",
        "        5 : \"cut\",\n",
        "        6 : \"stir (mix)\",\n",
        "        7 : \"pour\"\n",
        "}, 'AN': {\n",
        "        0 : \"Spread\",\n",
        "        1 : \"Get/Put\",\n",
        "        2 : \"Clear\",\n",
        "        3 : \"Slice\",\n",
        "        4 : \"Clean\",\n",
        "        5 : \"Pour\",\n",
        "        6 : \"Load\",\n",
        "        7 : \"Peel\",\n",
        "        8 : \"Open/Close\",\n",
        "        9 : \"Set\",\n",
        "        10 : \"Stack\",\n",
        "        11 : \"Unload\"\n",
        "\n",
        "}}\n",
        "\n",
        "colors = {'EK': {\n",
        "        0 : \"#A52A2A\",\n",
        "        1 : \"#DAA520\",\n",
        "        2 : \"#FF7F50\",\n",
        "        3 : \"#7BC8F6\",\n",
        "        4 : \"#FFFF14\",\n",
        "        5 : \"#76FF7B\",\n",
        "        6 : \"#13EAC9\",\n",
        "        7 : \"olive\"\n",
        "}, 'AN': {\n",
        "        0 : \"#A52A2A\",\n",
        "        1 : \"#DAA520\",\n",
        "        2 : \"#FF7F50\",\n",
        "        3 : \"#7BC8F6\",\n",
        "        4 : \"#FFFF14\",\n",
        "        5 : \"#76FF7B\",\n",
        "        6 : \"#13EAC9\",\n",
        "        7 : \"olive\",\n",
        "        8 : \"palegreen\",\n",
        "        9 : \"lightpink\",\n",
        "        10 : \"darkmagenta\",\n",
        "        11 : \"cadetblue\"\n",
        "}}"
      ]
    },
    {
      "cell_type": "code",
      "execution_count": null,
      "metadata": {
        "id": "9i9t4C1m-EJi"
      },
      "outputs": [],
      "source": [
        "data_original = pd.DataFrame(pd.read_pickle('/content/aml22-ego/saved_features/ACTIONNET_EMG/EMG_no-clip_ActionNet_train.pkl')[\"features\"])\n",
        "data = pd.DataFrame(pd.read_pickle(\"/content/aml22-ego/saved_features/reconstructed/AUG_VAE_0.001_2023-05-24 16:15:44.696068_train.pkl\")[\"features\"])\n"
      ]
    },
    {
      "cell_type": "code",
      "execution_count": null,
      "metadata": {
        "id": "olEjp7jS_0jQ"
      },
      "outputs": [],
      "source": [
        "data.iloc[0]\n",
        "ts = ['WD-MW', 'MW', 'WD', 'MW-WD']\n",
        "data_augmented_train = []\n",
        "for i in range(4):\n",
        "  data_augmented_train.append(pd.read_pickle('/content/aml22-ego/saved_features/aug/ActionNet_augmented_clips_'+ ts[i]+'_train.pkl'))\n",
        "data = pd.DataFrame(data_augmented_train[3]['features'] +data_augmented_train[2]['features']+\n",
        "                   data_augmented_train[1]['features'] +\n",
        "                    data_augmented_train[0]['features'] + data_original['features'])\n",
        "len(data)"
      ]
    },
    {
      "cell_type": "code",
      "execution_count": null,
      "metadata": {
        "id": "_FWl8lnv-3PQ"
      },
      "outputs": [],
      "source": [
        "# plot emg features\n",
        "print(len(data.iloc[0]['features_EMG']))\n",
        "features = np.array([data.iloc[i].features_EMG[num_clips//2] for i in range(len(data))])\n",
        "reduced = TSNE().fit_transform(features)\n",
        "data['x'] = reduced[:, 0]\n",
        "data['y'] = reduced[:, 1]\n",
        "for i in range(12): # ek has 8 classes\n",
        "    filtered = data[data[\"label\"] == i]\n",
        "    # compute the central frame\n",
        "    plt.scatter(filtered['x'], filtered['y'], c=colors['AN'][i], label=labels['AN'][i])\n",
        "plt.legend()\n",
        "plt.title('EMG train features')\n",
        "plt.show()"
      ]
    },
    {
      "cell_type": "markdown",
      "metadata": {
        "id": "mxOr7-o7bQXP"
      },
      "source": [
        "# Train VAE"
      ]
    },
    {
      "cell_type": "code",
      "execution_count": null,
      "metadata": {
        "id": "yHA--nTubPuf"
      },
      "outputs": [],
      "source": []
    },
    {
      "cell_type": "code",
      "execution_count": null,
      "metadata": {
        "id": "VJwhsYyR_oD-"
      },
      "outputs": [],
      "source": [
        "%%bash\n",
        "#VAE EMG train and save\n",
        "\n",
        "cd aml22-ego && git pull origin vae\n",
        "\n",
        "PYTHON_PATH=/usr/local/envs/egovision/bin/python\n",
        "\n",
        "$PYTHON_PATH train_VAE_features_EMG.py action=\"train_and_save\" \\\n",
        "  name=\"VAE_EMG_2 full-aug lr1e-3 wkld1 sum\" \\\n",
        "  config=configs/VAE_save_feat_EMG.yaml \\\n",
        "  dataset.shift=ActionNet-ActionNet \\\n",
        "  wandb_name='vae' \\\n",
        "  wandb_dir='Experiment_logs'  \\\n",
        "  dataset.RGB.data_path=../ek_data/frames \\\n",
        "  dataset.EMG.features_name='ACTIONNET_EMG/EMG_no-clip' \\\n",
        "  models.EMG.model='VAE' \\\n",
        "  models.EMG.lr=1e-3"
      ]
    }
  ],
  "metadata": {
    "accelerator": "GPU",
    "colab": {
      "gpuType": "T4",
      "provenance": [],
      "include_colab_link": true
    },
    "gpuClass": "standard",
    "kernelspec": {
      "display_name": "Python 3",
      "name": "python3"
    },
    "language_info": {
      "name": "python"
    },
    "orig_nbformat": 4
  },
  "nbformat": 4,
  "nbformat_minor": 0
}